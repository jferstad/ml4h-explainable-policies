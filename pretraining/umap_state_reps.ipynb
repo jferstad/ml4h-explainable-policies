{
 "cells": [
  {
   "cell_type": "code",
   "execution_count": 1,
   "id": "723335c0-31f7-4c03-bb81-a33442c97131",
   "metadata": {},
   "outputs": [],
   "source": [
    "# pip install umap-learn"
   ]
  },
  {
   "cell_type": "code",
   "execution_count": 2,
   "id": "1118cadb-1a21-4337-87c5-b6bea696e2b8",
   "metadata": {
    "tags": []
   },
   "outputs": [],
   "source": [
    "import warnings\n",
    "warnings.simplefilter('ignore')"
   ]
  },
  {
   "cell_type": "code",
   "execution_count": 3,
   "id": "d33423cb-04dc-4f7e-8813-b7228ba51aa6",
   "metadata": {
    "tags": []
   },
   "outputs": [],
   "source": [
    "import pandas as pd\n",
    "from econml.dml import CausalForestDML, SparseLinearDML\n",
    "from econml.dr import SparseLinearDRLearner, ForestDRLearner\n",
    "from econml.metalearners import XLearner\n",
    "from sklearn.ensemble import RandomForestClassifier, RandomForestRegressor\n",
    "import numpy as np\n",
    "from flaml import AutoML\n",
    "from sklearn.base import BaseEstimator, clone\n",
    "import warnings\n",
    "\n",
    "import numpy as np\n",
    "import matplotlib.pyplot as plt\n",
    "import scipy\n",
    "from scipy import stats\n",
    "import scipy.special\n",
    "from sklearn.linear_model import LassoCV, LinearRegression, ElasticNetCV\n",
    "from sklearn.tree import DecisionTreeClassifier\n",
    "from sklearn.tree import plot_tree\n",
    "from sklearn.base import clone\n",
    "import joblib\n",
    "import flaml\n",
    "from statsmodels.api import OLS\n",
    "from sklearn.model_selection import StratifiedGroupKFold, GroupKFold, KFold, StratifiedKFold\n",
    "from sklearn.model_selection import cross_val_predict, cross_val_score\n",
    "from sklearn.pipeline import make_pipeline\n",
    "from sklearn.preprocessing import PolynomialFeatures\n",
    "import pandas as pd\n",
    "\n",
    "import plotnine as p9\n",
    "import shap\n",
    "import math\n",
    "\n",
    "import dill as pickle\n",
    "import shap\n",
    "import re\n",
    "import umap"
   ]
  },
  {
   "cell_type": "code",
   "execution_count": null,
   "id": "2bf7dd1c-2d8e-4d61-b949-62b98d08aab6",
   "metadata": {},
   "outputs": [],
   "source": [
    "import numpy as np\n",
    "from flaml import AutoML\n",
    "from sklearn.base import BaseEstimator, clone\n",
    "import warnings\n",
    "warnings.simplefilter('ignore')\n",
    "###################################\n",
    "# AutoML models\n",
    "###################################\n",
    "\n",
    "# FLAML models don't return \"self\" at end of fit. We create this wrapper.\n",
    "\n",
    "class AutoMLWrap(BaseEstimator):\n",
    "\n",
    "    def __init__(self, *, model, automl):\n",
    "        self.model = model\n",
    "        self.automl = automl\n",
    "\n",
    "    def fit(self, X, y, **kwargs):\n",
    "        self.model_ = clone(self.model)\n",
    "        self.model_.fit(X, y, **kwargs)\n",
    "        return self\n",
    "\n",
    "    def predict(self, X):\n",
    "        return self.model_.predict(X)\n",
    "\n",
    "# Custom r2 loss for regression, for more trustworthy learning curves.\n",
    "def reg_r2(\n",
    "        X_val, y_val, estimator, labels,\n",
    "        X_train, y_train, weight_val=None, weight_train=None,\n",
    "        *args,):\n",
    "    mse = np.mean((estimator.predict(X_val) - y_val)**2)\n",
    "    r_2 = 1-mse/np.mean((y_val - y_val.mean())**2)\n",
    "    return -1*r_2, {\"val_loss\": r_2}\n",
    "\n",
    "def auto_reg(X, y, *, groups=None, n_splits=5, split_type='auto', time_budget=60, verbose=0, estimator_list='auto', log_file_name='flaml_log.txt'):\n",
    "    X = np.array(X)\n",
    "    automl = AutoML(task='regression', time_budget=time_budget, early_stop=True,\n",
    "                    eval_method='cv', n_splits=n_splits, split_type=split_type,\n",
    "                    metric=reg_r2, verbose=verbose, estimator_list=estimator_list)\n",
    "    if groups is None:\n",
    "        automl.fit(X, y, log_file_name=log_file_name)\n",
    "    else:\n",
    "        automl.fit(X, y, groups=groups, log_file_name=log_file_name)\n",
    "    best_est = automl.best_estimator\n",
    "    return lambda: AutoMLWrap(model=clone(automl.best_model_for_estimator(best_est)), automl=automl)\n",
    "\n",
    "\n",
    "class AutoMLWrapCLF(BaseEstimator):\n",
    "\n",
    "    def __init__(self, *, model, automl, prop_lb):\n",
    "        self.model = model\n",
    "        self.automl = automl\n",
    "        self.prop_lb = prop_lb\n",
    "\n",
    "    def fit(self, X, y, **kwargs):\n",
    "        self.model_ = clone(self.model)\n",
    "        self.model_.fit(X, y, **kwargs)\n",
    "        return self\n",
    "\n",
    "    def predict(self, X):\n",
    "        preds = self.model_.predict_proba(X) \n",
    "        preds = np.clip(preds, self.prop_lb, 1-self.prop_lb)\n",
    "        return preds\n",
    "    \n",
    "    def predict_proba(self, X):\n",
    "        preds = self.model_.predict_proba(X) \n",
    "        preds = np.clip(preds, self.prop_lb, 1-self.prop_lb)\n",
    "        return preds\n",
    "\n",
    "# Custom r2 loss for classification, for more trustworthy learning curves.\n",
    "def clf_r2(\n",
    "        X_val, y_val, estimator, labels,\n",
    "        X_train, y_train, weight_val=None, weight_train=None,\n",
    "        *args,):\n",
    "    mse = np.mean((estimator.predict_proba(X_val)[:, 1] - y_val)**2)\n",
    "    r_2 = 1-mse/np.mean((y_val - y_val.mean())**2)\n",
    "    return -1*r_2, {\"val_loss\": r_2}\n",
    "\n",
    "def clf_mod_log_loss(\n",
    "    X_val, y_val, estimator, labels,\n",
    "    X_train, y_train, weight_val=None, weight_train=None,\n",
    "    *args,):\n",
    "    \n",
    "    preds = estimator.predict_proba(X_val)[:,1]\n",
    "\n",
    "    mod_log_loss = np.mean(-1* ( (.01 + y_val)*np.log(preds) + (1.01 - y_val)*np.log(1-preds)))\n",
    "\n",
    "    return mod_log_loss, {\"val_loss\": mod_log_loss}\n",
    "\n",
    "def auto_clf(\n",
    "        X, y, *, groups=None, n_splits=5, split_type='auto', time_budget=60, verbose=0, estimator_list='auto', \n",
    "        log_file_name='flaml_log.txt', prop_lb=0.02):\n",
    "    X = np.array(X)\n",
    "    automl = AutoML(task='classification', time_budget=time_budget, early_stop=True,\n",
    "                    eval_method='cv', n_splits=n_splits, split_type=split_type,\n",
    "                    metric='log_loss', verbose=verbose, estimator_list=estimator_list,\n",
    "                   )\n",
    "    if groups is None:\n",
    "        automl.fit(X, y, log_file_name=log_file_name)\n",
    "    else:\n",
    "        automl.fit(X, y, groups=groups, log_file_name=log_file_name)\n",
    "    best_est = automl.best_estimator\n",
    "    return lambda: AutoMLWrapCLF(model=clone(automl.best_model_for_estimator(best_est)), automl=automl, prop_lb=prop_lb)"
   ]
  },
  {
   "cell_type": "code",
   "execution_count": 4,
   "id": "5107052c-70c1-448f-8099-4c5f1c62be9c",
   "metadata": {
    "tags": []
   },
   "outputs": [
    {
     "name": "stdout",
     "output_type": "stream",
     "text": [
      "281400\n",
      "95460\n"
     ]
    }
   ],
   "source": [
    "df = pd.read_parquet('../../output/analytic_views/agg_cgm_msg_demog_raw_cgm.parquet')\n",
    "print(len(df))\n",
    "\n",
    "# Pre-train on training data\n",
    "df = df[df.data_split == 'train']\n",
    "print(len(df))"
   ]
  },
  {
   "cell_type": "code",
   "execution_count": 6,
   "id": "1bf36275-72fd-461e-88fb-72330252eda8",
   "metadata": {
    "tags": []
   },
   "outputs": [
    {
     "name": "stdout",
     "output_type": "stream",
     "text": [
      "count    72042.000000\n",
      "mean        -0.019374\n",
      "std          9.564143\n",
      "min        -18.276764\n",
      "25%         -6.325950\n",
      "50%         -0.017465\n",
      "75%          6.223284\n",
      "max         18.412388\n",
      "Name: reward, dtype: float64\n"
     ]
    },
    {
     "data": {
      "text/html": [
       "<div>\n",
       "<style scoped>\n",
       "    .dataframe tbody tr th:only-of-type {\n",
       "        vertical-align: middle;\n",
       "    }\n",
       "\n",
       "    .dataframe tbody tr th {\n",
       "        vertical-align: top;\n",
       "    }\n",
       "\n",
       "    .dataframe thead th {\n",
       "        text-align: right;\n",
       "    }\n",
       "</style>\n",
       "<table border=\"1\" class=\"dataframe\">\n",
       "  <thead>\n",
       "    <tr style=\"text-align: right;\">\n",
       "      <th></th>\n",
       "      <th>reward</th>\n",
       "    </tr>\n",
       "    <tr>\n",
       "      <th>treated</th>\n",
       "      <th></th>\n",
       "    </tr>\n",
       "  </thead>\n",
       "  <tbody>\n",
       "    <tr>\n",
       "      <th>0.0</th>\n",
       "      <td>-0.080967</td>\n",
       "    </tr>\n",
       "    <tr>\n",
       "      <th>1.0</th>\n",
       "      <td>1.024199</td>\n",
       "    </tr>\n",
       "  </tbody>\n",
       "</table>\n",
       "</div>"
      ],
      "text/plain": [
       "           reward\n",
       "treated          \n",
       "0.0     -0.080967\n",
       "1.0      1.024199"
      ]
     },
     "execution_count": 6,
     "metadata": {},
     "output_type": "execute_result"
    }
   ],
   "source": [
    "# Define treatment\n",
    "df['treated'] = df['received_message']\n",
    "\n",
    "# Transform binary features to int\n",
    "binary_columns = df.select_dtypes(include=[bool]).columns\n",
    "df[binary_columns] = df[binary_columns].astype(int)\n",
    "\n",
    "# Define reward (outcome)\n",
    "df['reward'] = 100*df.delta_in_range_fw_7d \n",
    "lb, ub = df.reward.quantile([0.05,0.95])\n",
    "df['reward'] = df.reward.clip(lb, ub)\n",
    "print(df.reward.describe())\n",
    "df.groupby('treated')[['reward']].mean()"
   ]
  },
  {
   "cell_type": "code",
   "execution_count": 7,
   "id": "a652ad81-e885-46d3-bf51-bca6d53a55eb",
   "metadata": {
    "tags": []
   },
   "outputs": [
    {
     "data": {
      "text/plain": [
       "0.05037712130735387"
      ]
     },
     "execution_count": 7,
     "metadata": {},
     "output_type": "execute_result"
    }
   ],
   "source": [
    "df.treated.mean()"
   ]
  },
  {
   "cell_type": "markdown",
   "id": "8154885b-b6b6-451a-8d2f-89189fff8b89",
   "metadata": {
    "tags": []
   },
   "source": [
    "# Calculate Doubly Robust (DR) scores to use for evaluating UMAP projections"
   ]
  },
  {
   "cell_type": "code",
   "execution_count": null,
   "id": "a8eff033-9eee-4755-9866-c2f5972753f9",
   "metadata": {},
   "outputs": [],
   "source": [
    "df['large_tir_drop'] = ((df['in_range_7dr_7d_delta'] < -0.15) & (df['time_worn_7dr'] > 0.5)).astype(int)\n",
    "df['low_tir'] = ((df['in_range_7dr'] < 0.65) & (df['time_worn_7dr'] > 0.5)).astype(int)\n",
    "df['lows'] = (df['low_7dr'] > 0.04).astype(int)\n",
    "df['very_lows'] = (df['very_low_7dr'] > 0.01).astype(int)\n",
    "\n",
    "control_features = [\n",
    "    'in_range_7dr_7d_delta','time_worn_7dr','in_range_7dr', 'low_7dr', 'very_low_7dr',\n",
    "    'low_tir','lows','large_tir_drop','very_lows',\n",
    "    'using_pump'\n",
    "]\n",
    "\n",
    "df = df.dropna(subset=control_features + ['reward'])\n",
    "print(df.shape[0])\n",
    "\n",
    "X = df[control_features].astype(float)\n",
    "Y = df['reward'].values\n",
    "D = df['treated'].values\n",
    "groups = df.mrn.values\n",
    "\n",
    "print(X.shape)\n",
    "print(Y.shape)\n",
    "print(D.shape)"
   ]
  },
  {
   "cell_type": "code",
   "execution_count": null,
   "id": "8b24bdad-6ceb-474a-9994-5e3335a61e05",
   "metadata": {},
   "outputs": [],
   "source": [
    "# AutoML\n",
    "\n",
    "TESTING = False\n",
    "\n",
    "time_budget = 1 if TESTING else 60 # time budget for auto-ml in seconds (advisable at least 120) [400 good from testing]\n",
    "verbose = 1  # verbosity of auto-ml\n",
    "n_splits = 10 # cross-fitting and cross-validation splits\n",
    "\n",
    "# Find DR score outcome and treatment models with AutoML\n",
    "\n",
    "model_reg_zero = auto_reg(X[D==0], Y[D==0], groups=groups[D==0], n_splits=n_splits, split_type='auto',\n",
    "                            verbose=verbose, time_budget=time_budget, estimator_list=['rf'])\n",
    "\n",
    "model_reg_one = auto_reg(X[D==1], Y[D==1], groups=groups[D==1], n_splits=n_splits, split_type='auto',\n",
    "                            verbose=verbose, time_budget=time_budget, estimator_list=['rf'])\n",
    "\n",
    "model_t = auto_clf(X, D, groups=groups, n_splits=n_splits, split_type='auto',\n",
    "                   verbose=verbose, time_budget=time_budget, estimator_list=['rf'])"
   ]
  },
  {
   "cell_type": "code",
   "execution_count": null,
   "id": "418fe28b-0a3c-4d08-acfd-aca7edf55960",
   "metadata": {},
   "outputs": [],
   "source": [
    "# X-fit DR scores\n",
    "\n",
    "cv = StratifiedGroupKFold(n_splits=n_splits, shuffle=True, random_state=123)\n",
    "splits = list(cv.split(X, D, groups=groups))\n",
    "\n",
    "n = X.shape[0]\n",
    "reg_zero_preds_t = np.zeros(n)\n",
    "reg_one_preds_t = np.zeros(n)\n",
    "reg_preds_t = np.zeros(n)\n",
    "\n",
    "for train, test in splits:\n",
    "    reg_zero = model_reg_zero().fit(X.iloc[train][list(D[train]==0)], Y[train][list(D[train]==0)])\n",
    "    reg_one = model_reg_one().fit(X.iloc[train][list(D[train]==1)], Y[train][list(D[train]==1)])\n",
    "    reg_zero_preds_t[test] = reg_zero.predict(X.iloc[test])\n",
    "    reg_one_preds_t[test] = reg_one.predict(X.iloc[test])\n",
    "    reg_preds_t[test] = reg_zero_preds_t[test] * (1 - D[test]) + reg_one_preds_t[test] * D[test]\n",
    "\n",
    "prop_preds = cross_val_predict(model_t(), X, D, cv=splits)[:,1]\n",
    "\n",
    "dr_preds = reg_one_preds_t - reg_zero_preds_t\n",
    "dr_preds += (Y - reg_preds_t) * (D - prop_preds) / np.clip(prop_preds * (1 - prop_preds), .5, np.inf) # aggressive clip bc we're ok with more bias and lower variance when using scores for UMAP K selection\n",
    "\n",
    "display(OLS(dr_preds, np.ones((len(dr_preds), 1))).fit(cov_type='cluster', cov_kwds={'groups': groups}).summary())"
   ]
  },
  {
   "cell_type": "markdown",
   "id": "5e6bf8f2-b441-431f-90be-4b1fc918bef3",
   "metadata": {},
   "source": [
    "# Generate UMAP projections of raw glucose readings"
   ]
  },
  {
   "cell_type": "code",
   "execution_count": null,
   "id": "3d0c8a92-d3d9-45bb-8011-5b5a556deada",
   "metadata": {
    "tags": []
   },
   "outputs": [],
   "source": [
    "columns_with_g_number = [col for col in df.columns if re.match(r'^g\\d', col)]\n",
    "print(len(columns_with_g_number))\n",
    "columns_with_g_number[:5]"
   ]
  },
  {
   "cell_type": "code",
   "execution_count": null,
   "id": "629f6834-ede2-4ec6-901b-215b59abcde7",
   "metadata": {
    "tags": []
   },
   "outputs": [],
   "source": [
    "reducer = umap.UMAP()\n",
    "reducer.fit(df[columns_with_g_number].sample(n=100,random_state=123).to_numpy())\n",
    "print('fit done')\n",
    "embedding = reducer.transform(df[columns_with_g_number].to_numpy())\n",
    "embedding.shape"
   ]
  },
  {
   "cell_type": "code",
   "execution_count": null,
   "id": "e90fd206-ffd0-48de-a00d-a2cba4b2307b",
   "metadata": {
    "tags": []
   },
   "outputs": [],
   "source": [
    "# Add components to df\n",
    "df['c1'] = embedding[:,0]\n",
    "df['c2'] = embedding[:,1]"
   ]
  },
  {
   "cell_type": "code",
   "execution_count": null,
   "id": "d94d47dd-e495-4b8b-8ecf-c31b203609c4",
   "metadata": {
    "tags": []
   },
   "outputs": [],
   "source": [
    "# Plot components\n",
    "\n",
    "plot_df = pd.concat([\n",
    "    df.query('time_worn_7dr>0.5').sample(n=1000, random_state=123)\n",
    "])\n",
    "\n",
    "p9.options.figure_size = (12, 6)\n",
    "\n",
    "(\n",
    "    p9.ggplot(df)  \n",
    "    + p9.aes(x=\"c1\", y=\"c2\", color=\"gri_14dr\")\n",
    "    + p9.geom_point(size=1, alpha=0.5) + p9.theme_bw()\n",
    ")"
   ]
  },
  {
   "cell_type": "code",
   "execution_count": null,
   "id": "1fc475d4-dffa-4fde-b696-9225b75247a4",
   "metadata": {
    "tags": []
   },
   "outputs": [],
   "source": [
    "(\n",
    "    p9.ggplot(df) \n",
    "    + p9.aes(x=\"c1\", y=\"c2\", color=\"time_worn_7dr\")\n",
    "    + p9.geom_point(size=1, alpha=0.5) + p9.theme_bw()\n",
    ")"
   ]
  },
  {
   "cell_type": "markdown",
   "id": "c4222901-68b5-4310-92af-11f167fc12ed",
   "metadata": {},
   "source": [
    "Test DR prediction error of different numbers of UMAP components"
   ]
  },
  {
   "cell_type": "code",
   "execution_count": null,
   "id": "5577d6fb-16ee-42be-a755-c49c8591360c",
   "metadata": {
    "tags": []
   },
   "outputs": [],
   "source": [
    "def get_umap_dims(n_comp):\n",
    "    reducer = umap.UMAP(n_components=n_comp)\n",
    "    reducer.fit(df[columns_with_g_number].sample(n=10000,random_state=123).to_numpy())\n",
    "    embedding = reducer.transform(df[columns_with_g_number].to_numpy())\n",
    "    return(embedding)\n",
    "\n",
    "args = range(1,11)\n",
    "umap_components = {arg: get_umap_dims(arg) for arg in args}"
   ]
  },
  {
   "cell_type": "code",
   "execution_count": null,
   "id": "26a8f9b2-6d55-4670-9b25-f416f283e63f",
   "metadata": {
    "tags": []
   },
   "outputs": [],
   "source": [
    "# Calculate R-sq on DR scores for each number of components, fitting w AutoML\n",
    "# 1) fit AutoMLs for each number of components\n",
    "# 2) score models for each number of components\n",
    "umap_regs = {\n",
    "    arg: auto_reg(\n",
    "        umap_components[arg], dr_preds, groups=groups, n_splits=n_splits, split_type='auto',\n",
    "        verbose=verbose, time_budget=time_budget, estimator_list=['rf'])\n",
    "    for arg in args}"
   ]
  },
  {
   "cell_type": "code",
   "execution_count": null,
   "id": "0756a8d5-fd4a-4947-86e3-02041a3a4ad9",
   "metadata": {
    "tags": []
   },
   "outputs": [],
   "source": [
    "cv = GroupKFold(n_splits=n_splits)\n",
    "\n",
    "umap_scores = {\n",
    "    arg: np.mean(cross_val_score(umap_regs[arg](), umap_components[arg], dr_preds, groups=groups, cv=cv, scoring='r2'))\n",
    "    for arg in args}"
   ]
  },
  {
   "cell_type": "code",
   "execution_count": null,
   "id": "0dcf25ce-a9ff-4a2b-b462-718552be3275",
   "metadata": {
    "tags": []
   },
   "outputs": [],
   "source": [
    "umap_scores"
   ]
  },
  {
   "cell_type": "markdown",
   "id": "725b901a",
   "metadata": {},
   "source": [
    "# Generate best performing K=4 UMAP components for entire DF (not just train)"
   ]
  },
  {
   "cell_type": "code",
   "execution_count": null,
   "id": "0bddf48c-45e7-4c6f-aa26-8dca5d81768f",
   "metadata": {},
   "outputs": [],
   "source": [
    "# Train UMAP on training data\n",
    "reducer = umap.UMAP(n_components=4)\n",
    "reducer.fit(df[columns_with_g_number].sample(n=10000,random_state=123).to_numpy())"
   ]
  },
  {
   "cell_type": "code",
   "execution_count": null,
   "id": "4128993a-dc2b-48d6-b97f-0507fa6a18f1",
   "metadata": {},
   "outputs": [],
   "source": [
    "# Apply UMAP to all data\n",
    "full_df = pd.read_parquet('../../output/analytic_views/agg_cgm_msg_demog_raw_cgm.parquet')\n",
    "embedding = reducer.transform(full_df[columns_with_g_number].to_numpy())"
   ]
  },
  {
   "cell_type": "code",
   "execution_count": null,
   "id": "04e03fad-8af5-423d-a56e-303f6d11116d",
   "metadata": {
    "tags": []
   },
   "outputs": [],
   "source": [
    "# Save best performing UMAP components\n",
    "umap_df = pd.DataFrame(embedding, columns = [f'umap{i}' for i in range(4)])\n",
    "umap_df = pd.concat([full_df.drop(columns_with_g_number, axis=1), umap_df], axis=1)\n",
    "umap_df "
   ]
  },
  {
   "cell_type": "code",
   "execution_count": null,
   "id": "07268e91-a8e1-4be6-87e2-2a23d792692a",
   "metadata": {
    "tags": []
   },
   "outputs": [],
   "source": [
    "umap_df.to_parquet('../../output/pretraining/agg_cgm_msg_demog_umap.parquet')"
   ]
  }
 ],
 "metadata": {
  "environment": {
   "kernel": "python3",
   "name": ".m116",
   "type": "gcloud",
   "uri": "gcr.io/deeplearning-platform-release/:m116"
  },
  "kernelspec": {
   "display_name": "Python 3",
   "language": "python",
   "name": "python3"
  },
  "language_info": {
   "codemirror_mode": {
    "name": "ipython",
    "version": 3
   },
   "file_extension": ".py",
   "mimetype": "text/x-python",
   "name": "python",
   "nbconvert_exporter": "python",
   "pygments_lexer": "ipython3",
   "version": "3.10.13"
  }
 },
 "nbformat": 4,
 "nbformat_minor": 5
}
